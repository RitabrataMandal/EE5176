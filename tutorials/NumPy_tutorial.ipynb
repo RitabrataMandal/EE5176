{
  "cells": [
    {
      "cell_type": "markdown",
      "metadata": {
        "id": "view-in-github"
      },
      "source": [
        "<a href=\"https://colab.research.google.com/github/Rohith-Rongali/EE5179-2023/blob/main/Tutorials/Tutorial-1/NumPy.ipynb\" target=\"_parent\"><img src=\"https://colab.research.google.com/assets/colab-badge.svg\" alt=\"Open In Colab\"/></a>"
      ]
    },
    {
      "cell_type": "code",
      "execution_count": 2,
      "metadata": {
        "colab": {
          "base_uri": "https://localhost:8080/"
        },
        "id": "alrXoCflGKM8",
        "outputId": "51dd83a7-5e92-4aa6-a458-c4f4a2815d81"
      },
      "outputs": [
        {
          "name": "stdout",
          "output_type": "stream",
          "text": [
            "1.24.4\n"
          ]
        }
      ],
      "source": [
        "import numpy as np\n",
        "print(np.__version__)\n",
        "import matplotlib.pylab as plt"
      ]
    },
    {
      "cell_type": "markdown",
      "metadata": {
        "id": "C6DUK8dwjExh"
      },
      "source": [
        "# Numpy Basics:\n"
      ]
    },
    {
      "cell_type": "markdown",
      "metadata": {
        "id": "9x-UquUqkMWs"
      },
      "source": [
        "**Exercise #1:** Creating a numpy array with particular value\n",
        "\n",
        "**Your Task** Create a numpy array with size 2*3 with all elements as 5."
      ]
    },
    {
      "cell_type": "code",
      "execution_count": 2,
      "metadata": {
        "colab": {
          "base_uri": "https://localhost:8080/"
        },
        "id": "jyhhYUA4kpqj",
        "outputId": "2775656c-aacc-45a6-f514-9bd3f611e710"
      },
      "outputs": [
        {
          "name": "stdout",
          "output_type": "stream",
          "text": [
            "[[5. 5. 5.]\n",
            " [5. 5. 5.]]\n"
          ]
        }
      ],
      "source": [
        "# YOUR CODE STARTS HERE\n",
        "\n",
        "# YOUR CODE ENDS HERE\n",
        "print(arr)"
      ]
    },
    {
      "cell_type": "markdown",
      "metadata": {
        "id": "5NaczYqflEd5"
      },
      "source": [
        "**Exercise #2:** Creating a numpy array with *random* value\n",
        "\n",
        "**Your Task** Create a numpy array with size 2*3 with all random values"
      ]
    },
    {
      "cell_type": "code",
      "execution_count": 3,
      "metadata": {
        "colab": {
          "base_uri": "https://localhost:8080/"
        },
        "id": "9H2HQNC9lL-0",
        "outputId": "a8998eb2-8cd4-47ea-d9a4-52f8944c279e"
      },
      "outputs": [
        {
          "name": "stdout",
          "output_type": "stream",
          "text": [
            "[[0.82471533 0.37074813 0.53780882]\n",
            " [0.28626353 0.023499   0.47350426]]\n"
          ]
        }
      ],
      "source": [
        "# YOUR CODE STARTS HERE\n",
        "rand_arr = np.random.rand(2,3)  # only from 0 to 1, # in torch it is torch.rand\n",
        "# YOUR CODE ENDS HERE\n",
        "print(rand_arr)"
      ]
    },
    {
      "cell_type": "markdown",
      "metadata": {
        "id": "uT4LJPBFldNc"
      },
      "source": [
        "**Exercise #3:** Basic NumPy operatrions\n",
        "\n",
        "**Your Task** For the random array `arr`defined above, find the `sum` of all the elements, `mean`, `maximum` and `minimum` value"
      ]
    },
    {
      "cell_type": "code",
      "execution_count": 4,
      "metadata": {
        "colab": {
          "base_uri": "https://localhost:8080/"
        },
        "id": "UDrDaAK4l5gq",
        "outputId": "42d22c54-a1a0-4cb0-c171-75876bbfea30"
      },
      "outputs": [
        {
          "name": "stdout",
          "output_type": "stream",
          "text": [
            "sum: 2.5165390648099235\n",
            "mean: 0.4194231774683206\n",
            "max: 0.8247153265415946\n",
            "min:0.023498996496958968\n"
          ]
        }
      ],
      "source": [
        "#YOUR CODE STARTS HERE\n",
        "arr_sum = rand_arr.sum()\n",
        "arr_mean = rand_arr.mean()\n",
        "arr_min = rand_arr.min()\n",
        "arr_max = rand_arr.max()\n",
        "#YOUR CODE ENDS HERE\n",
        "\n",
        "print(f'sum: {arr_sum}\\nmean: {arr_mean}\\nmax: {arr_max}\\nmin:{arr_min}')"
      ]
    },
    {
      "cell_type": "markdown",
      "metadata": {
        "id": "JzoFSwHjl3dW"
      },
      "source": [
        "**Exercise #4:** `argmin` and `argmax`\n",
        "\n",
        "**Your Task** For the random array `arr`defined below:\n",
        "\n",
        "*   Find the position of maximum and minimum value of above array\n",
        "*   Find the indices of maximum and minimum value along each of its columns.\n",
        "*   Find the indices of maximum and minimum value along each of the its rows.\n",
        "\n"
      ]
    },
    {
      "cell_type": "code",
      "execution_count": 8,
      "metadata": {
        "colab": {
          "base_uri": "https://localhost:8080/"
        },
        "id": "VBawwx5KmpZR",
        "outputId": "7c26a684-516c-46ba-8955-45b7ace03376"
      },
      "outputs": [
        {
          "name": "stdout",
          "output_type": "stream",
          "text": [
            "Array:\n",
            "[[ 5 12 51 25]\n",
            " [25 29  2 27]]\n",
            "\n",
            "max value index: 2\n",
            "min value index: 6\n",
            "\n",
            "along each column\n",
            "max value index: [1 1 0 1]\n",
            "min value index: [0 0 1 0]\n",
            "\n",
            "along each row\n",
            "max value index: [2 1]\n",
            "min value index: [0 2]\n",
            "\n"
          ]
        }
      ],
      "source": [
        "# Define an array\n",
        "arr = np.array([[5,12,51,25] ,[25,29,2,27]])\n",
        "print(f'Array:\\n{arr}\\n')\n",
        "# YOUR CODE STARTS HERE\n",
        "#Find the position of maximum and minimum value of above array\n",
        "print(f\"max value index: {arr.argmax()}\\nmin value index: {arr.argmin()}\\n\")\n",
        "\n",
        "#Find the indices of maximum and minimum value along each of its columns.\n",
        "print(f\"along each column\\nmax value index: {np.argmax(arr, axis = 0)}\\nmin value index: {np.argmin(arr, axis = 0)}\\n\")\n",
        "#Find the indices of maximum and minimum value along each of the its rows.\n",
        "print(f\"along each row\\nmax value index: {np.argmax(arr, axis = 1)}\\nmin value index: {np.argmin(arr, axis = 1)}\\n\")\n",
        "\n",
        "#YOUR CODE ENDS HERE"
      ]
    },
    {
      "cell_type": "markdown",
      "metadata": {
        "id": "c6EJuS1SbEuX"
      },
      "source": [
        "Numpy Arrays vs. Python Lists?\n",
        "\n",
        "    Why the need for numpy arrays? Can't we just use Python lists?\n",
        "    Iterating over numpy arrays is slow. Slicing is faster\n",
        "\n",
        "Python lists may contain items of different types. This flexibility comes at a price: Python lists store pointers to memory locations. On the other hand, numpy arrays are typed, where the default type is floating point. Because of this, the system knows how much memory to allocate, and if you ask for an array of size 100, it will allocate one hundred contiguous spots in memory, where the size of each spot is based on the type. This makes access extremely fast.\n",
        "\n",
        "\n",
        "If you want to know more, we will suggest that you read this from [Jake Vanderplas's Data Science Handbook](https://jakevdp.github.io/PythonDataScienceHandbook/). You will find that book an incredible resource for learning numpy, pandas and plotting. All the lessons are available as colab notebooks so that u can try out the commands on your own."
      ]
    },
    {
      "cell_type": "code",
      "execution_count": 11,
      "metadata": {},
      "outputs": [
        {
          "name": "stdout",
          "output_type": "stream",
          "text": [
            "a=array([[1, 2],\n",
            "       [3, 4]]),\n",
            "b=array([[1, 2],\n",
            "       [3, 4]])\n",
            "mul:\n",
            " [[ 7 10]\n",
            " [15 22]] \n",
            "dot:\n",
            " [[ 7 10]\n",
            " [15 22]] \n",
            "using @:\n",
            " [[ 7 10]\n",
            " [15 22]]  \n",
            " a * b:\n",
            "  [[ 1  4]\n",
            " [ 9 16]]\n"
          ]
        }
      ],
      "source": [
        "a = np.array([[1, 2], [3, 4]])\n",
        "b = np.array([[1, 2], [3, 4]])\n",
        "c = np.matmul(a, b)\n",
        "d = np.dot(a, b)\n",
        "e = a@b\n",
        "f = a * b #  Hadamard product, element wise product\n",
        "print(f\"{a=},\\n{b=}\" )\n",
        "print(\"mul:\\n\", c, \"\\ndot:\\n\", d,\"\\nusing @:\\n\", e, \" \\n a * b:\\n \", f )"
      ]
    },
    {
      "cell_type": "code",
      "execution_count": 13,
      "metadata": {},
      "outputs": [
        {
          "name": "stdout",
          "output_type": "stream",
          "text": [
            "[[1 2]\n",
            " [3 4]] \n",
            " column_sum=array([4, 6])\n"
          ]
        }
      ],
      "source": [
        "column_sum = a.sum(axis = 0)\n",
        "print(a,'\\n',f\"{column_sum=}\")"
      ]
    },
    {
      "cell_type": "code",
      "execution_count": 11,
      "metadata": {},
      "outputs": [
        {
          "name": "stdout",
          "output_type": "stream",
          "text": [
            "[[1 2]\n",
            " [3 4]] \n",
            " row_sum=array([3, 7])\n"
          ]
        }
      ],
      "source": [
        "row_sum = a.sum(axis = 1)\n",
        "print(a,'\\n',f\"{row_sum=}\")"
      ]
    },
    {
      "cell_type": "code",
      "execution_count": null,
      "metadata": {},
      "outputs": [],
      "source": []
    }
  ],
  "metadata": {
    "accelerator": "GPU",
    "colab": {
      "gpuType": "T4",
      "provenance": []
    },
    "kernelspec": {
      "display_name": "courses",
      "language": "python",
      "name": "python3"
    },
    "language_info": {
      "codemirror_mode": {
        "name": "ipython",
        "version": 3
      },
      "file_extension": ".py",
      "mimetype": "text/x-python",
      "name": "python",
      "nbconvert_exporter": "python",
      "pygments_lexer": "ipython3",
      "version": "3.8.10"
    }
  },
  "nbformat": 4,
  "nbformat_minor": 0
}
